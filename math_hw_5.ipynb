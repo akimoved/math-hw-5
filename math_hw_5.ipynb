{
 "cells": [
  {
   "cell_type": "markdown",
   "metadata": {},
   "source": [
    "# Level 0"
   ]
  },
  {
   "cell_type": "code",
   "execution_count": 81,
   "metadata": {},
   "outputs": [],
   "source": [
    "import numpy as np\n",
    "from scipy.optimize import approx_fprime\n",
    "from sympy import *"
   ]
  },
  {
   "cell_type": "code",
   "execution_count": 82,
   "metadata": {},
   "outputs": [
    {
     "name": "stdout",
     "output_type": "stream",
     "text": [
      "df1/dx = 4*x*y**3 + y**2 - 1/x**2\n",
      "\n",
      "df1/dy = 6*x**2*y**2 + 2*x*y\n"
     ]
    }
   ],
   "source": [
    "x, y = symbols('x y')\n",
    "\n",
    "f1 = 2*(x**2)*(y**3) + (1/x) + (y**2)*x + 7\n",
    "\n",
    "df1_x = diff(f1, x)\n",
    "print('df1/dx =', df1_x)\n",
    "\n",
    "df1_y = diff(f1, y)\n",
    "print('\\ndf1/dy =', df1_y)"
   ]
  },
  {
   "cell_type": "code",
   "execution_count": 83,
   "metadata": {},
   "outputs": [
    {
     "name": "stdout",
     "output_type": "stream",
     "text": [
      "df2/dx = 2*x*y - 2*x*sin(x**2) - y*cos(x*y)\n",
      "\n",
      "df2/dy = x**2 - x*cos(x*y) + 6\n"
     ]
    }
   ],
   "source": [
    "f2 = (x**2)*y - sin(x*y) + cos(x**2) + 6*y\n",
    "\n",
    "df2_x = diff(f2, x)\n",
    "print('df2/dx =', df2_x)\n",
    "\n",
    "df2_y = diff(f2, y)\n",
    "print('\\ndf2/dy =', df2_y)"
   ]
  },
  {
   "cell_type": "code",
   "execution_count": 84,
   "metadata": {},
   "outputs": [
    {
     "name": "stdout",
     "output_type": "stream",
     "text": [
      "Градиент функции f1 в точке (1,2): [35.00000024 28.00000024]\n"
     ]
    }
   ],
   "source": [
    "def func1(x):\n",
    "    return 2*(x[0]**2)*(x[1]**3) + (1/x[0]) + x[0]*(x[1]**2) + 7\n",
    "\n",
    "x = (1,2)\n",
    "eps = np.sqrt(np.finfo(float).eps)\n",
    "print('Градиент функции f1 в точке (1,2):',approx_fprime(x, func1, eps))"
   ]
  },
  {
   "cell_type": "markdown",
   "metadata": {},
   "source": [
    "# Level 1"
   ]
  },
  {
   "cell_type": "code",
   "execution_count": 85,
   "metadata": {},
   "outputs": [],
   "source": [
    "from scipy.optimize import minimize"
   ]
  },
  {
   "cell_type": "code",
   "execution_count": 86,
   "metadata": {},
   "outputs": [],
   "source": [
    "def f(x):\n",
    "    return (x[0]**2) + (x[1]**2)"
   ]
  },
  {
   "cell_type": "code",
   "execution_count": 87,
   "metadata": {},
   "outputs": [],
   "source": [
    "x = np.array([100, 200])\n",
    "learning_rate = 0.1\n",
    "eps = np.sqrt(np.finfo(float).eps)"
   ]
  },
  {
   "cell_type": "code",
   "execution_count": 88,
   "metadata": {},
   "outputs": [],
   "source": [
    "for i in range(100):\n",
    "    # Calculate gradient\n",
    "    grad = approx_fprime(x, f, eps)\n",
    "    # Update x with gradient\n",
    "    x = x - learning_rate * grad"
   ]
  },
  {
   "cell_type": "code",
   "execution_count": 89,
   "metadata": {},
   "outputs": [
    {
     "name": "stdout",
     "output_type": "stream",
     "text": [
      "Минимум достигается в:  [1.29197811e-08 3.32901401e-08]\n",
      "Значение функции в минимуме:  1.2751541739575584e-15\n"
     ]
    }
   ],
   "source": [
    "print(\"Минимум достигается в: \", x)\n",
    "print(\"Значение функции в минимуме: \", f(x))"
   ]
  },
  {
   "cell_type": "code",
   "execution_count": 90,
   "metadata": {},
   "outputs": [
    {
     "name": "stdout",
     "output_type": "stream",
     "text": [
      "Optimization terminated successfully.\n",
      "         Current function value: 0.000000\n",
      "         Iterations: 31\n",
      "         Function evaluations: 63\n",
      " final_simplex: (array([[ 0.00000000e+00,  0.00000000e+00],\n",
      "       [ 7.29128068e-09, -1.65075114e-09],\n",
      "       [ 2.51112912e-09, -8.55170894e-09]]), array([0.00000000e+00, 5.58877533e-17, 7.94374952e-17]))\n",
      "           fun: 0.0\n",
      "       message: 'Optimization terminated successfully.'\n",
      "          nfev: 63\n",
      "           nit: 31\n",
      "        status: 0\n",
      "       success: True\n",
      "             x: array([0., 0.])\n"
     ]
    }
   ],
   "source": [
    "res = minimize(f,np.array([0,0]),method='nelder-mead',options={'xtol':1e-8,'disp':True})\n",
    "print(res)"
   ]
  },
  {
   "cell_type": "code",
   "execution_count": 92,
   "metadata": {},
   "outputs": [
    {
     "name": "stdout",
     "output_type": "stream",
     "text": [
      "Разница точки минимума между ручным и встроенным методами: [-0. -0.]\n",
      "\n",
      "Разница значений функции в точке минимума между ручным и встроенным методами: -0.0\n"
     ]
    }
   ],
   "source": [
    "print('Разница точки минимума между ручным и встроенным методами:', (res.x - x).round(6))\n",
    "print('\\nРазница значений функции в точке минимума между ручным и встроенным методами:', (f(res.x) - f(x)).round(6))"
   ]
  }
 ],
 "metadata": {
  "kernelspec": {
   "display_name": "Python 3",
   "language": "python",
   "name": "python3"
  },
  "language_info": {
   "codemirror_mode": {
    "name": "ipython",
    "version": 3
   },
   "file_extension": ".py",
   "mimetype": "text/x-python",
   "name": "python",
   "nbconvert_exporter": "python",
   "pygments_lexer": "ipython3",
   "version": "3.8.5"
  }
 },
 "nbformat": 4,
 "nbformat_minor": 4
}
